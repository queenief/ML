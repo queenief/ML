{
 "cells": [
  {
   "cell_type": "markdown",
   "metadata": {},
   "source": [
    "# Convolutions\n",
    "\n",
    "## Convolutions in NumPy\n",
    "\n",
    "The code below implements a basic *concolution* operation using NumPy arrays; these are the same arrays used in this week's lecture. It uses an input array of 6x6 and a filter of 3x3. Note that the `*` below does elementwise multiplication between two arrays. The example below shows how elementwise matrix multiplication works. (Note: if the arrays do not have the same shape, broadcasting will be done, if possible.)"
   ]
  },
  {
   "cell_type": "code",
   "execution_count": 1,
   "metadata": {},
   "outputs": [
    {
     "data": {
      "text/plain": [
       "array([[ 1,  4,  9],\n",
       "       [16, 25, 36]])"
      ]
     },
     "execution_count": 1,
     "metadata": {},
     "output_type": "execute_result"
    }
   ],
   "source": [
    "import numpy as np\n",
    "\n",
    "arr1 = np.array([[1, 2, 3], \n",
    "               [4, 5, 6]])\n",
    "\n",
    "arr2 = np.array([[1, 2, 3], \n",
    "               [4, 5, 6]])\n",
    "\n",
    "arr1 * arr2  # we could also use np.multiply(arr1, arr2)"
   ]
  },
  {
   "cell_type": "markdown",
   "metadata": {},
   "source": [
    "Execute the code below and make sure you understand the results. Verify a few elements by doing the calculation by hand.  "
   ]
  },
  {
   "cell_type": "code",
   "execution_count": 2,
   "metadata": {},
   "outputs": [
    {
     "data": {
      "text/plain": [
       "array([[6, 1, 7, 3, 6, 7],\n",
       "       [3, 2, 2, 8, 6, 1],\n",
       "       [8, 5, 3, 0, 1, 8],\n",
       "       [8, 7, 8, 3, 4, 8],\n",
       "       [5, 4, 7, 3, 6, 4],\n",
       "       [7, 3, 2, 5, 5, 2]])"
      ]
     },
     "execution_count": 2,
     "metadata": {},
     "output_type": "execute_result"
    }
   ],
   "source": [
    "x = np.array([[6, 1, 7, 3, 6, 7],\n",
    "             [3, 2, 2, 8, 6, 1],\n",
    "             [8, 5, 3, 0, 1, 8],\n",
    "             [8, 7, 8, 3, 4, 8],\n",
    "             [5, 4, 7, 3, 6, 4],\n",
    "             [7, 3, 2, 5, 5, 2]])\n",
    "\n",
    "x"
   ]
  },
  {
   "cell_type": "code",
   "execution_count": 3,
   "metadata": {},
   "outputs": [
    {
     "data": {
      "text/plain": [
       "array([[ 0,  3,  0],\n",
       "       [-1,  1,  2],\n",
       "       [ 4,  0,  1]])"
      ]
     },
     "execution_count": 3,
     "metadata": {},
     "output_type": "execute_result"
    }
   ],
   "source": [
    "f = np.array([[0, 3, 0], \n",
    "              [-1, 1, 2], \n",
    "              [4, 0, 1]])\n",
    "f"
   ]
  },
  {
   "cell_type": "code",
   "execution_count": 4,
   "metadata": {},
   "outputs": [
    {
     "data": {
      "text/plain": [
       "array([[0., 0., 0., 0.],\n",
       "       [0., 0., 0., 0.],\n",
       "       [0., 0., 0., 0.],\n",
       "       [0., 0., 0., 0.]])"
      ]
     },
     "execution_count": 4,
     "metadata": {},
     "output_type": "execute_result"
    }
   ],
   "source": [
    "v = np.zeros((4, 4))\n",
    "v"
   ]
  },
  {
   "cell_type": "markdown",
   "metadata": {},
   "source": [
    "For each line of code below, locate which element of `v` is being updated and which section of the `x` array is involved (use the output for `v` and `x` above for this). Make sure this makes sense based on your understanding of the lecture material. "
   ]
  },
  {
   "cell_type": "code",
   "execution_count": 5,
   "metadata": {},
   "outputs": [],
   "source": [
    "v[0,0] = np.sum(x[0:3, 0:3] * f)\n",
    "v[0,1] = np.sum(x[0:3, 1:4] * f)\n",
    "v[0,2] = np.sum(x[0:3, 2:5] * f)\n",
    "v[0,3] = np.sum(x[0:3, 3:6] * f)\n",
    "\n",
    "v[1,0] = np.sum(x[1:4, 0:3] * f)\n",
    "v[1,1] = np.sum(x[1:4, 1:4] * f)\n",
    "v[1,2] = np.sum(x[1:4, 2:5] * f)\n",
    "v[1,3] = np.sum(x[1:4, 3:6] * f)\n",
    "\n",
    "v[2,0] = np.sum(x[2:5, 0:3] * f)\n",
    "v[2,1] = np.sum(x[2:5, 1:4] * f)\n",
    "v[2,2] = np.sum(x[2:5, 2:5] * f)\n",
    "v[2,3] = np.sum(x[2:5, 3:6] * f)\n",
    "\n",
    "v[3,0] = np.sum(x[3:6, 0:3] * f)\n",
    "v[3,1] = np.sum(x[3:6, 1:4] * f)\n",
    "v[3,2] = np.sum(x[3:6, 2:5] * f)\n",
    "v[3,3] = np.sum(x[3:6, 3:6] * f)"
   ]
  },
  {
   "cell_type": "code",
   "execution_count": 6,
   "metadata": {},
   "outputs": [
    {
     "data": {
      "text/plain": [
       "array([[41., 57., 40., 26.],\n",
       "       [49., 35., 59., 55.],\n",
       "       [57., 35., 37., 36.],\n",
       "       [64., 50., 30., 45.]])"
      ]
     },
     "execution_count": 6,
     "metadata": {},
     "output_type": "execute_result"
    }
   ],
   "source": [
    "v"
   ]
  },
  {
   "cell_type": "markdown",
   "metadata": {},
   "source": [
    "### Exercise\n",
    "\n",
    "Keep the same array `x` but change `f` so it is a 5x5 filter to produce a new output `v2`. Double check the output by doing a few calculations by hand.  "
   ]
  },
  {
   "cell_type": "markdown",
   "metadata": {},
   "source": [
    "## Convolutions in Keras\n",
    "\n",
    "The code below will allow you to play with a single convolutional layer in Keras. Take a look at the documentation for the [Conv2D](https://keras.io/api/layers/convolution_layers/convolution2d/) layer, which is also where the original code came from. "
   ]
  },
  {
   "cell_type": "code",
   "execution_count": 7,
   "metadata": {},
   "outputs": [],
   "source": [
    "import tensorflow as tf\n",
    "from tensorflow.keras.layers import Conv2D"
   ]
  },
  {
   "cell_type": "code",
   "execution_count": 8,
   "metadata": {},
   "outputs": [
    {
     "data": {
      "text/plain": [
       "TensorShape([4, 26, 26, 2])"
      ]
     },
     "execution_count": 8,
     "metadata": {},
     "output_type": "execute_result"
    }
   ],
   "source": [
    "input_shape = (4, 28, 28, 3)\n",
    "\n",
    "x = tf.random.normal(input_shape)\n",
    "\n",
    "y = Conv2D(filters=2, \n",
    "           kernel_size=(3, 3), \n",
    "           strides=1, \n",
    "           padding='valid', \n",
    "           input_shape=input_shape[1:])(x)\n",
    "\n",
    "y.shape"
   ]
  },
  {
   "cell_type": "markdown",
   "metadata": {},
   "source": [
    "Here is a brief explanation of the above code: \n",
    "\n",
    "<img src=\"Convolution_notebook-2.jpg\" width=600 align=\"center\">"
   ]
  },
  {
   "cell_type": "markdown",
   "metadata": {},
   "source": [
    "### Exercises\n",
    "\n",
    "In the code above, make changes to:\n",
    "- input $h$\n",
    "- input $w$\n",
    "- input $n_c$\n",
    "- number of filters\n",
    "- kernel size (same as filter size)\n",
    "- type of padding used\n",
    "- stride value\n",
    "\n",
    "For each change, calculate the dimensions of the output (`y.shape`) by hand, including drawing a diagram (as shown below). "
   ]
  },
  {
   "cell_type": "markdown",
   "metadata": {},
   "source": [
    "<img src=\"Convolution_notebook-1.jpg\" width=600 align=\"center\">"
   ]
  },
  {
   "cell_type": "markdown",
   "metadata": {},
   "source": [
    "## MNIST Revisited\n",
    "\n",
    "Let's now revisit our MNIST. Knowing that the data contains 2-dimensional images of handwritten digits, we should be able to apply what we've learned about convolutions. Thus, in this section, we will create a convolutional neural network (CNN or convnet) for this data set."
   ]
  },
  {
   "cell_type": "code",
   "execution_count": 9,
   "metadata": {},
   "outputs": [],
   "source": [
    "from tensorflow.keras.datasets import mnist\n",
    "import numpy as np # included here for completeness\n",
    "\n",
    "(train_data, train_labels), (test_data, test_labels) = mnist.load_data()"
   ]
  },
  {
   "cell_type": "markdown",
   "metadata": {},
   "source": [
    "This time we are going to use a *validation set* to monitor our training progress. We can also use this validation set for *hyperparameter tuning*. Remember, using the validation set allows us to keep the *test set* to gauge how well our final model should do in the real world; that is, the final model only sees the test data once."
   ]
  },
  {
   "cell_type": "code",
   "execution_count": 10,
   "metadata": {},
   "outputs": [],
   "source": [
    "# Use the first 10,000 samples of our training data as our validation set\n",
    "val_data = train_data[:10000]\n",
    "val_labels = train_labels[:10000]\n",
    "\n",
    "# Use the remainder of the original training data for actual training\n",
    "partial_train_data = train_data[10000:]\n",
    "partial_train_labels = train_labels[10000:]"
   ]
  },
  {
   "cell_type": "code",
   "execution_count": 11,
   "metadata": {},
   "outputs": [],
   "source": [
    "# Scale the pixel values so they lie in the range of 0-1\n",
    "partial_train_data = partial_train_data / 255.\n",
    "val_data = val_data / 255.\n",
    "test_data = test_data /255."
   ]
  },
  {
   "cell_type": "markdown",
   "metadata": {},
   "source": [
    "Note that our data currently has 3 dimensions: `(samples, height, width)`. "
   ]
  },
  {
   "cell_type": "code",
   "execution_count": 12,
   "metadata": {},
   "outputs": [
    {
     "name": "stdout",
     "output_type": "stream",
     "text": [
      "(50000, 28, 28)\n",
      "(10000, 28, 28)\n",
      "(10000, 28, 28)\n"
     ]
    }
   ],
   "source": [
    "print(partial_train_data.shape)\n",
    "print(val_data.shape)\n",
    "print(test_data.shape)"
   ]
  },
  {
   "cell_type": "markdown",
   "metadata": {},
   "source": [
    "Our convolutional neural network will expect 4-dimensional data: `(batch_size, height, width, channels)`. Note that depending on how you decide to update the parameters of the network, `batch_size` could equal the number of `samples` (as in *batch gradient descent*), or it could equal a single sample (as in *stochastic gradient descent*, or it can equal the batch size (as in *mini-batch gradient descent*). \n",
    "\n",
    "We can use a NumPy function to add this dimension. "
   ]
  },
  {
   "cell_type": "code",
   "execution_count": 13,
   "metadata": {},
   "outputs": [],
   "source": [
    "partial_train_data = np.expand_dims(partial_train_data, axis=3)\n",
    "val_data = np.expand_dims(val_data, axis=3)\n",
    "test_data = np.expand_dims(test_data, axis=3)"
   ]
  },
  {
   "cell_type": "code",
   "execution_count": 14,
   "metadata": {},
   "outputs": [
    {
     "name": "stdout",
     "output_type": "stream",
     "text": [
      "(50000, 28, 28, 1)\n",
      "(10000, 28, 28, 1)\n",
      "(10000, 28, 28, 1)\n"
     ]
    }
   ],
   "source": [
    "print(partial_train_data.shape)\n",
    "print(val_data.shape)\n",
    "print(test_data.shape)"
   ]
  },
  {
   "cell_type": "markdown",
   "metadata": {},
   "source": [
    "Note how a fourth dimension was added to our data. This dimension corresponds to the number of channels in our input data. Here it is 1, since the images are all greyscale. It would be 3 if the images were RGB. Also note, that the convention here is *channels last*, as opposed to *channels first*."
   ]
  },
  {
   "cell_type": "markdown",
   "metadata": {},
   "source": [
    "As in Lab 1, we need to convert our label data to the correct format. "
   ]
  },
  {
   "cell_type": "code",
   "execution_count": 15,
   "metadata": {},
   "outputs": [],
   "source": [
    "from tensorflow.keras.utils import to_categorical\n",
    "\n",
    "partial_train_labels = to_categorical(partial_train_labels)\n",
    "val_labels = to_categorical(val_labels)\n",
    "test_labels = to_categorical(test_labels)"
   ]
  },
  {
   "cell_type": "markdown",
   "metadata": {},
   "source": [
    "We will now import the necessary modules for building our convolutional neural network. Since we are using Keras's sequential API we need to import the `Sequential` module. The remaining 3 imports will help us build the layers of our CNN. `Conv2D` creates the convolutional layers we have been discussing in the lectures. `Flatten` is used to create a 1 dimensional vector so we can feed the output of our convolutional layers to the fully-connected layers. We used NumPy's `reshape` function to do this flattening in Lab 1. And the `Dense` layer is the same as what we used in Lab 1. "
   ]
  },
  {
   "cell_type": "code",
   "execution_count": 16,
   "metadata": {},
   "outputs": [],
   "source": [
    "from tensorflow.keras.models import Sequential\n",
    "from tensorflow.keras.layers import Conv2D, Flatten, Dense"
   ]
  },
  {
   "cell_type": "markdown",
   "metadata": {},
   "source": [
    "We are going to use a slightly different approach to building our network than we did in Lab 1. Here we will directly add a *list of layers* to the `Sequential()` object. That is, we put all our layers inside square brackets `[...]` and put this inside the `Sequential( [...] )` object to create our model. In Lab 1 we used the `.add()` method to add individual layers to our `Sequential()` object that we initialized without any layers. "
   ]
  },
  {
   "cell_type": "code",
   "execution_count": 25,
   "metadata": {},
   "outputs": [],
   "source": [
    "model = Sequential([\n",
    "    Conv2D(filters=32, \n",
    "           kernel_size=(3, 3), \n",
    "           strides=1, \n",
    "           padding='same', \n",
    "           activation='relu',\n",
    "           input_shape=(28, 28, 1)),\n",
    "    Conv2D(filters=32, \n",
    "           kernel_size=(3, 3), \n",
    "           strides=2, \n",
    "           padding='valid',\n",
    "           activation='relu'),\n",
    "    Conv2D(filters=64, \n",
    "           kernel_size=(3, 3), \n",
    "           strides=1, \n",
    "           padding='same', \n",
    "          activation='relu'),\n",
    "    Conv2D(filters=64, \n",
    "           kernel_size=(3, 3), \n",
    "           strides=2, \n",
    "           padding='valid',\n",
    "           activation='relu'),\n",
    "    Flatten(),\n",
    "    Dense(128, activation='relu'),\n",
    "    Dense(10, activation='softmax')\n",
    "])"
   ]
  },
  {
   "cell_type": "markdown",
   "metadata": {},
   "source": [
    "It is often helpful to see the tensor shapes and number of parameters per layer. We can get this information by using the `.summary()` method. "
   ]
  },
  {
   "cell_type": "code",
   "execution_count": 18,
   "metadata": {},
   "outputs": [
    {
     "name": "stdout",
     "output_type": "stream",
     "text": [
      "Model: \"sequential\"\n",
      "_________________________________________________________________\n",
      "Layer (type)                 Output Shape              Param #   \n",
      "=================================================================\n",
      "conv2d_1 (Conv2D)            (None, 28, 28, 32)        320       \n",
      "_________________________________________________________________\n",
      "conv2d_2 (Conv2D)            (None, 13, 13, 32)        9248      \n",
      "_________________________________________________________________\n",
      "conv2d_3 (Conv2D)            (None, 13, 13, 64)        18496     \n",
      "_________________________________________________________________\n",
      "conv2d_4 (Conv2D)            (None, 6, 6, 64)          36928     \n",
      "_________________________________________________________________\n",
      "flatten (Flatten)            (None, 2304)              0         \n",
      "_________________________________________________________________\n",
      "dense (Dense)                (None, 128)               295040    \n",
      "_________________________________________________________________\n",
      "dense_1 (Dense)              (None, 10)                1290      \n",
      "=================================================================\n",
      "Total params: 361,322\n",
      "Trainable params: 361,322\n",
      "Non-trainable params: 0\n",
      "_________________________________________________________________\n"
     ]
    }
   ],
   "source": [
    "model.summary()"
   ]
  },
  {
   "cell_type": "markdown",
   "metadata": {},
   "source": [
    "We are still tackling the same type of problem (multi-class classification) so the same loss and metrics will work for us here. The optimizer `rmsprop` is the same as we used before and can be taken as the default method (or recipe) to try out for updating the model parameters."
   ]
  },
  {
   "cell_type": "code",
   "execution_count": 19,
   "metadata": {},
   "outputs": [],
   "source": [
    "model.compile(optimizer='rmsprop',\n",
    "                loss='categorical_crossentropy',\n",
    "                metrics=['accuracy'])"
   ]
  },
  {
   "cell_type": "markdown",
   "metadata": {},
   "source": [
    "We now fit our model to the remaining training data (the original training data minus the validation data). You will now see that *loss* and *accuracy* get updated for each batch of images (here set to 256) but the *validation loss* and *validation accuracy* get updated after each *epoch*. Note that the *validation data* is not being used to train the model. Each batch of the training data is used to update the parameters and then, once we have gone through all of the samples in our training data (that is, all the samples in `partial_train_data`) the model is used to make predictions for the validation set. From those predictions the validation loss and accuracy are calculated. \n",
    "\n",
    "Each epoch of training should take 30-50s to complete. "
   ]
  },
  {
   "cell_type": "code",
   "execution_count": 20,
   "metadata": {},
   "outputs": [
    {
     "name": "stdout",
     "output_type": "stream",
     "text": [
      "Train on 50000 samples, validate on 10000 samples\n",
      "Epoch 1/10\n",
      "50000/50000 [==============================] - 62s 1ms/sample - loss: 0.2788 - accuracy: 0.9139 - val_loss: 0.1045 - val_accuracy: 0.9683\n",
      "Epoch 2/10\n",
      "50000/50000 [==============================] - 61s 1ms/sample - loss: 0.0604 - accuracy: 0.9813 - val_loss: 0.0619 - val_accuracy: 0.9821\n",
      "Epoch 3/10\n",
      "50000/50000 [==============================] - 61s 1ms/sample - loss: 0.0369 - accuracy: 0.9887 - val_loss: 0.0602 - val_accuracy: 0.9812\n",
      "Epoch 4/10\n",
      "50000/50000 [==============================] - 60s 1ms/sample - loss: 0.0259 - accuracy: 0.9918 - val_loss: 0.0480 - val_accuracy: 0.9883\n",
      "Epoch 5/10\n",
      "50000/50000 [==============================] - 61s 1ms/sample - loss: 0.0191 - accuracy: 0.9941 - val_loss: 0.0435 - val_accuracy: 0.9890\n",
      "Epoch 6/10\n",
      "50000/50000 [==============================] - 62s 1ms/sample - loss: 0.0151 - accuracy: 0.9955 - val_loss: 0.0445 - val_accuracy: 0.9876\n",
      "Epoch 7/10\n",
      "50000/50000 [==============================] - 61s 1ms/sample - loss: 0.0119 - accuracy: 0.9962 - val_loss: 0.0439 - val_accuracy: 0.9884\n",
      "Epoch 8/10\n",
      "50000/50000 [==============================] - 61s 1ms/sample - loss: 0.0080 - accuracy: 0.9975 - val_loss: 0.0592 - val_accuracy: 0.9894\n",
      "Epoch 9/10\n",
      "50000/50000 [==============================] - 61s 1ms/sample - loss: 0.0079 - accuracy: 0.9973 - val_loss: 0.0581 - val_accuracy: 0.9870\n",
      "Epoch 10/10\n",
      "50000/50000 [==============================] - 61s 1ms/sample - loss: 0.0054 - accuracy: 0.9982 - val_loss: 0.0593 - val_accuracy: 0.9898\n"
     ]
    }
   ],
   "source": [
    "history = model.fit(partial_train_data, \n",
    "                    partial_train_labels, \n",
    "                    epochs=10, \n",
    "                    batch_size=256, \n",
    "                    validation_data=(val_data, val_labels),\n",
    "                    verbose=1)"
   ]
  },
  {
   "cell_type": "markdown",
   "metadata": {},
   "source": [
    "The values for the training loss and accuracy, as well as the validation loss and accuracy, are stored in the `history` variable. You can see the structure of the dictionary that stores this information as follows:"
   ]
  },
  {
   "cell_type": "code",
   "execution_count": 21,
   "metadata": {},
   "outputs": [
    {
     "data": {
      "text/plain": [
       "dict_keys(['loss', 'accuracy', 'val_loss', 'val_accuracy'])"
      ]
     },
     "execution_count": 21,
     "metadata": {},
     "output_type": "execute_result"
    }
   ],
   "source": [
    "history.history.keys()"
   ]
  },
  {
   "cell_type": "markdown",
   "metadata": {},
   "source": [
    "We will now use this information to visualize the progress our network makes on the loss and accuracy as the number of epochs increases. "
   ]
  },
  {
   "cell_type": "code",
   "execution_count": 22,
   "metadata": {},
   "outputs": [
    {
     "data": {
      "image/png": "[encoded data removed]",
      "text/plain": [
       "<Figure size 432x288 with 1 Axes>"
      ]
     },
     "metadata": {
      "needs_background": "light"
     },
     "output_type": "display_data"
    }
   ],
   "source": [
    "import matplotlib.pyplot as plt  # needed to create our plot\n",
    "\n",
    "history_dict = history.history # the dictionary that has the information on loss and accuracy per epoch\n",
    "\n",
    "loss_values = history_dict['loss']   # training loss\n",
    "val_loss_values = history_dict['val_loss'] # validation loss\n",
    "\n",
    "epochs = range(1, len(loss_values)+1)  #creates list of integers to match the number of epochs of training\n",
    "\n",
    "# code to plot the results\n",
    "plt.plot(epochs, loss_values, 'b', label=\"Training Loss\")\n",
    "plt.plot(epochs, val_loss_values, 'r', label=\"Validation Loss\")\n",
    "plt.title(\"Training and Validation Loss\")\n",
    "plt.xlabel(\"Epochs\")\n",
    "plt.xticks(epochs)\n",
    "plt.ylabel(\"Loss\")\n",
    "plt.legend()\n",
    "plt.show()"
   ]
  },
  {
   "cell_type": "code",
   "execution_count": 23,
   "metadata": {},
   "outputs": [
    {
     "data": {
      "image/png": "[encoded data removed]",
      "text/plain": [
       "<Figure size 432x288 with 1 Axes>"
      ]
     },
     "metadata": {
      "needs_background": "light"
     },
     "output_type": "display_data"
    }
   ],
   "source": [
    "# As above, but this time we want to visualize the training and validation accuracy\n",
    "acc_values = history_dict['accuracy']\n",
    "val_acc_values = history_dict['val_accuracy']\n",
    "\n",
    "plt.plot(epochs, acc_values, 'b', label=\"Training Accuracy\")\n",
    "plt.plot(epochs, val_acc_values, 'r', label=\"Validation Accuracy\")\n",
    "plt.title(\"Training and Validation Accuracy\")\n",
    "plt.xlabel(\"Epochs\")\n",
    "plt.xticks(epochs)\n",
    "plt.ylabel(\"Accuracy\")\n",
    "plt.legend()\n",
    "plt.show()"
   ]
  },
  {
   "cell_type": "markdown",
   "metadata": {},
   "source": [
    "### Exercise: Parameters\n",
    "\n",
    "For the model we have created, calculate the number of parameters by hand for each layer and compare to the output of `model.summary()`. For Exercise 7 in Lab 1, how many parameters did your model have?"
   ]
  },
  {
   "cell_type": "markdown",
   "metadata": {},
   "source": [
    "## Exercise: Early Stopping\n",
    "\n",
    "When I ran this model the validation loss stopped decreasing after 4 epochs. This is where the model seems to stop learning and is starting to just memorize the training data. I could also see this in the since the accuracy on the validation set did not change much after 4 epochs. \n",
    "\n",
    "One way to avoid this overfitting is called *early stopping*. In my case, this means I would stop training the network after 4 epochs. Note how I have used the validation set to determine when to stop training! \n",
    "\n",
    "Try implementing early stopping for our model:\n",
    "- use the validation loss plot to determine which epoch corresponds to when the model stops learning \n",
    "    - if it so happens that the validation loss continues going down for all 10 epochs, then increase the number of epochs in the original code to 20\n",
    "- use the complete training set (no validation set)\n",
    "- scale this training set\n",
    "- expand its dimensions to 4 (this 4 is not connected in any way to stopping training after 4 epochs)\n",
    "- use the same model, and same optimizer, loss and metrics\n",
    "- fit the model to the complete training set (no validation set)\n",
    "- plot the training and validation lossess and accuracies per epoch\n",
    "- evaluate the trained model on the test data\n"
   ]
  },
  {
   "cell_type": "markdown",
   "metadata": {},
   "source": [
    "## Exercise: Change the layers\n",
    "\n",
    "Play around with the **number of filters** and the **filter size** in our model. Note the change in:\n",
    "- number of parameters in the model\n",
    "- training and validation losses and accuracies"
   ]
  },
  {
   "cell_type": "code",
   "execution_count": null,
   "metadata": {},
   "outputs": [],
   "source": []
  }
 ],
 "metadata": {
  "kernelspec": {
   "display_name": "Python 3",
   "language": "python",
   "name": "python3"
  },
  "language_info": {
   "codemirror_mode": {
    "name": "ipython",
    "version": 3
   },
   "file_extension": ".py",
   "mimetype": "text/x-python",
   "name": "python",
   "nbconvert_exporter": "python",
   "pygments_lexer": "ipython3",
   "version": "3.7.6"
  }
 },
 "nbformat": 4,
 "nbformat_minor": 4
}
